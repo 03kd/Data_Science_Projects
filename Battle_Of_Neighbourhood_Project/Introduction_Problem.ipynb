{
    "nbformat_minor": 2, 
    "cells": [
        {
            "source": "<h1 align =center><font color =#ff3333>Battle of Suitable Neighbourhoods </font></h1>", 
            "cell_type": "markdown", 
            "metadata": {}
        }, 
        {
            "source": "<h1><font color =red>Target City</font></h1>", 
            "cell_type": "markdown", 
            "metadata": {}
        }, 
        {
            "source": "**Bangalore**, officially known as *Bengaluru*, is the capital of the Indianstate of Karnataka. It has a population of over ten million,making it a megacity and the third-most populous city and fifth-most populous urban agglomeration in India.Bangalore is the second fastest-growing major metropolis in India. \n\nBengaluru has one of the most highly educated workforces in the world. The city attracts thousands of software engineers and IT specialists from all over India. Bengaluru is not just an IT Hub but it is also the hub of other industries like aeronautics, space research and defence research.", 
            "cell_type": "markdown", 
            "metadata": {}
        }, 
        {
            "source": "<h2><font color =brown> 1. Description of the Problem</font></h2>", 
            "cell_type": "markdown", 
            "metadata": {}
        }, 
        {
            "source": "Bangalore is known as the Silicon Valley of India. With the increasing number of tech comapnies and startups, a lot of people are shifting to Bengaluru. People faces a lot of problems when they shift from one city to another like which is the ideal place that is near to Mall, Hospitals , restaurants, parks, metro station etc", 
            "cell_type": "markdown", 
            "metadata": {}
        }, 
        {
            "source": "So, as a part of this project we will find the best place to live which near to metro, Hospitals and malls.", 
            "cell_type": "markdown", 
            "metadata": {}
        }, 
        {
            "source": "# Target Audience", 
            "cell_type": "markdown", 
            "metadata": {}
        }, 
        {
            "source": "* People who migrates in Bangalore for job purpose to stay.\n* Finding the suitable location for living. \n* Budding Data Scientists, who wants to implement some of the most used Exploratory Data Analysis techniques to    obtain necessary data, analyze it and, finally be able to tell a story out of it. ", 
            "cell_type": "markdown", 
            "metadata": {}
        }, 
        {
            "execution_count": null, 
            "cell_type": "code", 
            "source": "", 
            "outputs": [], 
            "metadata": {}
        }
    ], 
    "nbformat": 4, 
    "metadata": {
        "kernelspec": {
            "display_name": "Python 3", 
            "name": "python3", 
            "language": "python"
        }, 
        "language_info": {
            "mimetype": "text/x-python", 
            "nbconvert_exporter": "python", 
            "version": "3.6.9", 
            "name": "python", 
            "file_extension": ".py", 
            "pygments_lexer": "ipython3", 
            "codemirror_mode": {
                "version": 3, 
                "name": "ipython"
            }
        }
    }
}