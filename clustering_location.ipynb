{
    "nbformat_minor": 1, 
    "cells": [
        {
            "source": "# Segmenting and Clustering Neighborhoods in Toronto", 
            "cell_type": "markdown", 
            "metadata": {}
        }, 
        {
            "source": "## Import the relevant libraries", 
            "cell_type": "markdown", 
            "metadata": {
                "collapsed": true
            }
        }, 
        {
            "source": "import pandas as pd\nimport numpy as np\nimport requests\n\npd.options.display.max_columns =None # full rows in output", 
            "cell_type": "code", 
            "execution_count": 1, 
            "outputs": [], 
            "metadata": {}
        }, 
        {
            "source": "#### get the url of requried data", 
            "cell_type": "markdown", 
            "metadata": {}
        }, 
        {
            "source": "url ='https://en.wikipedia.org/wiki/List_of_postal_codes_of_Canada:_M'", 
            "cell_type": "code", 
            "execution_count": 2, 
            "outputs": [], 
            "metadata": {}
        }, 
        {
            "source": "### Let fetch the table from url", 
            "cell_type": "markdown", 
            "metadata": {}
        }, 
        {
            "source": "df = pd.read_html(url, match ='Postcode')  # there is pandas method to extract table from html page\ndf[0].head()", 
            "cell_type": "code", 
            "execution_count": 3, 
            "outputs": [
                {
                    "output_type": "execute_result", 
                    "metadata": {}, 
                    "data": {
                        "text/html": "<div>\n<style scoped>\n    .dataframe tbody tr th:only-of-type {\n        vertical-align: middle;\n    }\n\n    .dataframe tbody tr th {\n        vertical-align: top;\n    }\n\n    .dataframe thead th {\n        text-align: right;\n    }\n</style>\n<table border=\"1\" class=\"dataframe\">\n  <thead>\n    <tr style=\"text-align: right;\">\n      <th></th>\n      <th>Postcode</th>\n      <th>Borough</th>\n      <th>Neighbourhood</th>\n    </tr>\n  </thead>\n  <tbody>\n    <tr>\n      <th>0</th>\n      <td>M1A</td>\n      <td>Not assigned</td>\n      <td>Not assigned</td>\n    </tr>\n    <tr>\n      <th>1</th>\n      <td>M2A</td>\n      <td>Not assigned</td>\n      <td>Not assigned</td>\n    </tr>\n    <tr>\n      <th>2</th>\n      <td>M3A</td>\n      <td>North York</td>\n      <td>Parkwoods</td>\n    </tr>\n    <tr>\n      <th>3</th>\n      <td>M4A</td>\n      <td>North York</td>\n      <td>Victoria Village</td>\n    </tr>\n    <tr>\n      <th>4</th>\n      <td>M5A</td>\n      <td>Downtown Toronto</td>\n      <td>Harbourfront</td>\n    </tr>\n  </tbody>\n</table>\n</div>", 
                        "text/plain": "  Postcode           Borough     Neighbourhood\n0      M1A      Not assigned      Not assigned\n1      M2A      Not assigned      Not assigned\n2      M3A        North York         Parkwoods\n3      M4A        North York  Victoria Village\n4      M5A  Downtown Toronto      Harbourfront"
                    }, 
                    "execution_count": 3
                }
            ], 
            "metadata": {
                "scrolled": true
            }
        }, 
        {
            "source": "df = df[0].copy()", 
            "cell_type": "code", 
            "execution_count": 4, 
            "outputs": [], 
            "metadata": {}
        }, 
        {
            "source": "## Step -1", 
            "cell_type": "markdown", 
            "metadata": {}
        }, 
        {
            "source": "### Ignore cells with a borough that is Not assigned.", 
            "cell_type": "markdown", 
            "metadata": {}
        }, 
        {
            "source": "df = df[df.Borough != 'Not assigned']\ndf.head()", 
            "cell_type": "code", 
            "execution_count": 5, 
            "outputs": [
                {
                    "output_type": "execute_result", 
                    "metadata": {}, 
                    "data": {
                        "text/html": "<div>\n<style scoped>\n    .dataframe tbody tr th:only-of-type {\n        vertical-align: middle;\n    }\n\n    .dataframe tbody tr th {\n        vertical-align: top;\n    }\n\n    .dataframe thead th {\n        text-align: right;\n    }\n</style>\n<table border=\"1\" class=\"dataframe\">\n  <thead>\n    <tr style=\"text-align: right;\">\n      <th></th>\n      <th>Postcode</th>\n      <th>Borough</th>\n      <th>Neighbourhood</th>\n    </tr>\n  </thead>\n  <tbody>\n    <tr>\n      <th>2</th>\n      <td>M3A</td>\n      <td>North York</td>\n      <td>Parkwoods</td>\n    </tr>\n    <tr>\n      <th>3</th>\n      <td>M4A</td>\n      <td>North York</td>\n      <td>Victoria Village</td>\n    </tr>\n    <tr>\n      <th>4</th>\n      <td>M5A</td>\n      <td>Downtown Toronto</td>\n      <td>Harbourfront</td>\n    </tr>\n    <tr>\n      <th>5</th>\n      <td>M5A</td>\n      <td>Downtown Toronto</td>\n      <td>Regent Park</td>\n    </tr>\n    <tr>\n      <th>6</th>\n      <td>M6A</td>\n      <td>North York</td>\n      <td>Lawrence Heights</td>\n    </tr>\n  </tbody>\n</table>\n</div>", 
                        "text/plain": "  Postcode           Borough     Neighbourhood\n2      M3A        North York         Parkwoods\n3      M4A        North York  Victoria Village\n4      M5A  Downtown Toronto      Harbourfront\n5      M5A  Downtown Toronto       Regent Park\n6      M6A        North York  Lawrence Heights"
                    }, 
                    "execution_count": 5
                }
            ], 
            "metadata": {}
        }, 
        {
            "source": "## Step -2", 
            "cell_type": "markdown", 
            "metadata": {}
        }, 
        {
            "source": "### two rows will be combined into one row with the neighborhoods separated with a comma", 
            "cell_type": "markdown", 
            "metadata": {}
        }, 
        {
            "source": "df =df.groupby(['Postcode','Borough']).Neighbourhood.agg([('Neighbourhood', ', '.join)])\ndf.reset_index(inplace =True)", 
            "cell_type": "code", 
            "execution_count": 6, 
            "outputs": [], 
            "metadata": {}
        }, 
        {
            "source": "df.head()", 
            "cell_type": "code", 
            "execution_count": 7, 
            "outputs": [
                {
                    "output_type": "execute_result", 
                    "metadata": {}, 
                    "data": {
                        "text/html": "<div>\n<style scoped>\n    .dataframe tbody tr th:only-of-type {\n        vertical-align: middle;\n    }\n\n    .dataframe tbody tr th {\n        vertical-align: top;\n    }\n\n    .dataframe thead th {\n        text-align: right;\n    }\n</style>\n<table border=\"1\" class=\"dataframe\">\n  <thead>\n    <tr style=\"text-align: right;\">\n      <th></th>\n      <th>Postcode</th>\n      <th>Borough</th>\n      <th>Neighbourhood</th>\n    </tr>\n  </thead>\n  <tbody>\n    <tr>\n      <th>0</th>\n      <td>M1B</td>\n      <td>Scarborough</td>\n      <td>Rouge, Malvern</td>\n    </tr>\n    <tr>\n      <th>1</th>\n      <td>M1C</td>\n      <td>Scarborough</td>\n      <td>Highland Creek, Rouge Hill, Port Union</td>\n    </tr>\n    <tr>\n      <th>2</th>\n      <td>M1E</td>\n      <td>Scarborough</td>\n      <td>Guildwood, Morningside, West Hill</td>\n    </tr>\n    <tr>\n      <th>3</th>\n      <td>M1G</td>\n      <td>Scarborough</td>\n      <td>Woburn</td>\n    </tr>\n    <tr>\n      <th>4</th>\n      <td>M1H</td>\n      <td>Scarborough</td>\n      <td>Cedarbrae</td>\n    </tr>\n  </tbody>\n</table>\n</div>", 
                        "text/plain": "  Postcode      Borough                           Neighbourhood\n0      M1B  Scarborough                          Rouge, Malvern\n1      M1C  Scarborough  Highland Creek, Rouge Hill, Port Union\n2      M1E  Scarborough       Guildwood, Morningside, West Hill\n3      M1G  Scarborough                                  Woburn\n4      M1H  Scarborough                               Cedarbrae"
                    }, 
                    "execution_count": 7
                }
            ], 
            "metadata": {}
        }, 
        {
            "source": "## Step -3 ", 
            "cell_type": "markdown", 
            "metadata": {}
        }, 
        {
            "source": "### If a cell has a borough but a Not assigned neighborhood, then the neighborhood will be the same as the borough.", 
            "cell_type": "markdown", 
            "metadata": {}
        }, 
        {
            "source": "df[df['Neighbourhood'] == 'Not assigned'] # check the any 'Not assigned' value in 'Neighbourhood' column\n        \n        #OR\n        \n#df['Neighbourhood'].str.contains(\"Not assigned\")", 
            "cell_type": "code", 
            "execution_count": 8, 
            "outputs": [
                {
                    "output_type": "execute_result", 
                    "metadata": {}, 
                    "data": {
                        "text/html": "<div>\n<style scoped>\n    .dataframe tbody tr th:only-of-type {\n        vertical-align: middle;\n    }\n\n    .dataframe tbody tr th {\n        vertical-align: top;\n    }\n\n    .dataframe thead th {\n        text-align: right;\n    }\n</style>\n<table border=\"1\" class=\"dataframe\">\n  <thead>\n    <tr style=\"text-align: right;\">\n      <th></th>\n      <th>Postcode</th>\n      <th>Borough</th>\n      <th>Neighbourhood</th>\n    </tr>\n  </thead>\n  <tbody>\n    <tr>\n      <th>85</th>\n      <td>M7A</td>\n      <td>Queen's Park</td>\n      <td>Not assigned</td>\n    </tr>\n  </tbody>\n</table>\n</div>", 
                        "text/plain": "   Postcode       Borough Neighbourhood\n85      M7A  Queen's Park  Not assigned"
                    }, 
                    "execution_count": 8
                }
            ], 
            "metadata": {}
        }, 
        {
            "source": "###### There is one column. So as by rule it replace by Borough value", 
            "cell_type": "markdown", 
            "metadata": {}
        }, 
        {
            "source": "df['Neighbourhood'].replace('Not assigned',\"Queen's Park\",inplace =True)", 
            "cell_type": "code", 
            "execution_count": 9, 
            "outputs": [], 
            "metadata": {}
        }, 
        {
            "source": "df.shape", 
            "cell_type": "code", 
            "execution_count": 10, 
            "outputs": [
                {
                    "output_type": "execute_result", 
                    "metadata": {}, 
                    "data": {
                        "text/plain": "(103, 3)"
                    }, 
                    "execution_count": 10
                }
            ], 
            "metadata": {
                "scrolled": true
            }
        }, 
        {
            "source": "\nimport types\nimport pandas as pd\nfrom botocore.client import Config\nimport ibm_boto3\n\ndef __iter__(self): return 0\n\n# @hidden_cell\n# The following code accesses a file in your IBM Cloud Object Storage. It includes your credentials.\n# You might want to remove those credentials before you share the notebook.\nclient_c2429444175e4fc9b7ac6b4b6bfab95a = ibm_boto3.client(service_name='s3',\n    ibm_api_key_id='cOyZRNqVdTBMvZP0ZslOp1PO3PZdLSVm4SsuwmIPJGCp',\n    ibm_auth_endpoint=\"https://iam.ng.bluemix.net/oidc/token\",\n    config=Config(signature_version='oauth'),\n    endpoint_url='https://s3-api.us-geo.objectstorage.service.networklayer.com')\n\nbody = client_c2429444175e4fc9b7ac6b4b6bfab95a.get_object(Bucket='courseracapstone-donotdelete-pr-gak31r2m5bxa7c',Key='Geospatial_Coordinates.csv')['Body']\n# add missing __iter__ method, so pandas accepts body as file-like object\nif not hasattr(body, \"__iter__\"): body.__iter__ = types.MethodType( __iter__, body )\n\ndf_data_1 = pd.read_csv(body)\ndf_data_1.head()\n", 
            "cell_type": "code", 
            "execution_count": 11, 
            "outputs": [
                {
                    "output_type": "execute_result", 
                    "metadata": {}, 
                    "data": {
                        "text/html": "<div>\n<style scoped>\n    .dataframe tbody tr th:only-of-type {\n        vertical-align: middle;\n    }\n\n    .dataframe tbody tr th {\n        vertical-align: top;\n    }\n\n    .dataframe thead th {\n        text-align: right;\n    }\n</style>\n<table border=\"1\" class=\"dataframe\">\n  <thead>\n    <tr style=\"text-align: right;\">\n      <th></th>\n      <th>Postal Code</th>\n      <th>Latitude</th>\n      <th>Longitude</th>\n    </tr>\n  </thead>\n  <tbody>\n    <tr>\n      <th>0</th>\n      <td>M1B</td>\n      <td>43.806686</td>\n      <td>-79.194353</td>\n    </tr>\n    <tr>\n      <th>1</th>\n      <td>M1C</td>\n      <td>43.784535</td>\n      <td>-79.160497</td>\n    </tr>\n    <tr>\n      <th>2</th>\n      <td>M1E</td>\n      <td>43.763573</td>\n      <td>-79.188711</td>\n    </tr>\n    <tr>\n      <th>3</th>\n      <td>M1G</td>\n      <td>43.770992</td>\n      <td>-79.216917</td>\n    </tr>\n    <tr>\n      <th>4</th>\n      <td>M1H</td>\n      <td>43.773136</td>\n      <td>-79.239476</td>\n    </tr>\n  </tbody>\n</table>\n</div>", 
                        "text/plain": "  Postal Code   Latitude  Longitude\n0         M1B  43.806686 -79.194353\n1         M1C  43.784535 -79.160497\n2         M1E  43.763573 -79.188711\n3         M1G  43.770992 -79.216917\n4         M1H  43.773136 -79.239476"
                    }, 
                    "execution_count": 11
                }
            ], 
            "metadata": {}
        }, 
        {
            "source": "df.rename(columns = {'Postcode':'Postal Code'}, inplace =True)\ndf.head()", 
            "cell_type": "code", 
            "execution_count": 21, 
            "outputs": [
                {
                    "output_type": "execute_result", 
                    "metadata": {}, 
                    "data": {
                        "text/html": "<div>\n<style scoped>\n    .dataframe tbody tr th:only-of-type {\n        vertical-align: middle;\n    }\n\n    .dataframe tbody tr th {\n        vertical-align: top;\n    }\n\n    .dataframe thead th {\n        text-align: right;\n    }\n</style>\n<table border=\"1\" class=\"dataframe\">\n  <thead>\n    <tr style=\"text-align: right;\">\n      <th></th>\n      <th>Postal Code</th>\n      <th>Borough</th>\n      <th>Neighbourhood</th>\n      <th>Postal Code</th>\n      <th>Latitude</th>\n      <th>Longitude</th>\n    </tr>\n  </thead>\n  <tbody>\n    <tr>\n      <th>0</th>\n      <td>M1B</td>\n      <td>Scarborough</td>\n      <td>Rouge, Malvern</td>\n      <td>M1B</td>\n      <td>43.806686</td>\n      <td>-79.194353</td>\n    </tr>\n    <tr>\n      <th>1</th>\n      <td>M1C</td>\n      <td>Scarborough</td>\n      <td>Highland Creek, Rouge Hill, Port Union</td>\n      <td>M1C</td>\n      <td>43.784535</td>\n      <td>-79.160497</td>\n    </tr>\n    <tr>\n      <th>2</th>\n      <td>M1E</td>\n      <td>Scarborough</td>\n      <td>Guildwood, Morningside, West Hill</td>\n      <td>M1E</td>\n      <td>43.763573</td>\n      <td>-79.188711</td>\n    </tr>\n    <tr>\n      <th>3</th>\n      <td>M1G</td>\n      <td>Scarborough</td>\n      <td>Woburn</td>\n      <td>M1G</td>\n      <td>43.770992</td>\n      <td>-79.216917</td>\n    </tr>\n    <tr>\n      <th>4</th>\n      <td>M1H</td>\n      <td>Scarborough</td>\n      <td>Cedarbrae</td>\n      <td>M1H</td>\n      <td>43.773136</td>\n      <td>-79.239476</td>\n    </tr>\n  </tbody>\n</table>\n</div>", 
                        "text/plain": "  Postal Code      Borough                           Neighbourhood  \\\n0         M1B  Scarborough                          Rouge, Malvern   \n1         M1C  Scarborough  Highland Creek, Rouge Hill, Port Union   \n2         M1E  Scarborough       Guildwood, Morningside, West Hill   \n3         M1G  Scarborough                                  Woburn   \n4         M1H  Scarborough                               Cedarbrae   \n\n  Postal Code   Latitude  Longitude  \n0         M1B  43.806686 -79.194353  \n1         M1C  43.784535 -79.160497  \n2         M1E  43.763573 -79.188711  \n3         M1G  43.770992 -79.216917  \n4         M1H  43.773136 -79.239476  "
                    }, 
                    "execution_count": 21
                }
            ], 
            "metadata": {
                "scrolled": true
            }
        }, 
        {
            "source": "df = pd.merge(df,df_data_1,on ='Postal Code')\ndf", 
            "cell_type": "code", 
            "execution_count": 20, 
            "outputs": [
                {
                    "output_type": "error", 
                    "evalue": "The column label 'Postal Code' is not unique.", 
                    "traceback": [
                        "\u001b[0;31m---------------------------------------------------------------------------\u001b[0m", 
                        "\u001b[0;31mValueError\u001b[0m                                Traceback (most recent call last)", 
                        "\u001b[0;32m<ipython-input-20-89bf17f5d265>\u001b[0m in \u001b[0;36m<module>\u001b[0;34m\u001b[0m\n\u001b[0;32m----> 1\u001b[0;31m \u001b[0mdf\u001b[0m \u001b[0;34m=\u001b[0m \u001b[0mpd\u001b[0m\u001b[0;34m.\u001b[0m\u001b[0mmerge\u001b[0m\u001b[0;34m(\u001b[0m\u001b[0mdf\u001b[0m\u001b[0;34m,\u001b[0m\u001b[0mdf_data_1\u001b[0m\u001b[0;34m,\u001b[0m\u001b[0mon\u001b[0m \u001b[0;34m=\u001b[0m\u001b[0;34m'Postal Code'\u001b[0m\u001b[0;34m)\u001b[0m\u001b[0;34m\u001b[0m\u001b[0;34m\u001b[0m\u001b[0m\n\u001b[0m\u001b[1;32m      2\u001b[0m \u001b[0mdf\u001b[0m\u001b[0;34m\u001b[0m\u001b[0;34m\u001b[0m\u001b[0m\n", 
                        "\u001b[0;32m/opt/conda/envs/Python36/lib/python3.6/site-packages/pandas/core/reshape/merge.py\u001b[0m in \u001b[0;36mmerge\u001b[0;34m(left, right, how, on, left_on, right_on, left_index, right_index, sort, suffixes, copy, indicator, validate)\u001b[0m\n\u001b[1;32m     45\u001b[0m                          \u001b[0mright_index\u001b[0m\u001b[0;34m=\u001b[0m\u001b[0mright_index\u001b[0m\u001b[0;34m,\u001b[0m \u001b[0msort\u001b[0m\u001b[0;34m=\u001b[0m\u001b[0msort\u001b[0m\u001b[0;34m,\u001b[0m \u001b[0msuffixes\u001b[0m\u001b[0;34m=\u001b[0m\u001b[0msuffixes\u001b[0m\u001b[0;34m,\u001b[0m\u001b[0;34m\u001b[0m\u001b[0;34m\u001b[0m\u001b[0m\n\u001b[1;32m     46\u001b[0m                          \u001b[0mcopy\u001b[0m\u001b[0;34m=\u001b[0m\u001b[0mcopy\u001b[0m\u001b[0;34m,\u001b[0m \u001b[0mindicator\u001b[0m\u001b[0;34m=\u001b[0m\u001b[0mindicator\u001b[0m\u001b[0;34m,\u001b[0m\u001b[0;34m\u001b[0m\u001b[0;34m\u001b[0m\u001b[0m\n\u001b[0;32m---> 47\u001b[0;31m                          validate=validate)\n\u001b[0m\u001b[1;32m     48\u001b[0m     \u001b[0;32mreturn\u001b[0m \u001b[0mop\u001b[0m\u001b[0;34m.\u001b[0m\u001b[0mget_result\u001b[0m\u001b[0;34m(\u001b[0m\u001b[0;34m)\u001b[0m\u001b[0;34m\u001b[0m\u001b[0;34m\u001b[0m\u001b[0m\n\u001b[1;32m     49\u001b[0m \u001b[0;34m\u001b[0m\u001b[0m\n", 
                        "\u001b[0;32m/opt/conda/envs/Python36/lib/python3.6/site-packages/pandas/core/reshape/merge.py\u001b[0m in \u001b[0;36m__init__\u001b[0;34m(self, left, right, how, on, left_on, right_on, axis, left_index, right_index, sort, suffixes, copy, indicator, validate)\u001b[0m\n\u001b[1;32m    527\u001b[0m         (self.left_join_keys,\n\u001b[1;32m    528\u001b[0m          \u001b[0mself\u001b[0m\u001b[0;34m.\u001b[0m\u001b[0mright_join_keys\u001b[0m\u001b[0;34m,\u001b[0m\u001b[0;34m\u001b[0m\u001b[0;34m\u001b[0m\u001b[0m\n\u001b[0;32m--> 529\u001b[0;31m          self.join_names) = self._get_merge_keys()\n\u001b[0m\u001b[1;32m    530\u001b[0m \u001b[0;34m\u001b[0m\u001b[0m\n\u001b[1;32m    531\u001b[0m         \u001b[0;31m# validate the merge keys dtypes. We may need to coerce\u001b[0m\u001b[0;34m\u001b[0m\u001b[0;34m\u001b[0m\u001b[0;34m\u001b[0m\u001b[0m\n", 
                        "\u001b[0;32m/opt/conda/envs/Python36/lib/python3.6/site-packages/pandas/core/reshape/merge.py\u001b[0m in \u001b[0;36m_get_merge_keys\u001b[0;34m(self)\u001b[0m\n\u001b[1;32m    844\u001b[0m                         \u001b[0mright_keys\u001b[0m\u001b[0;34m.\u001b[0m\u001b[0mappend\u001b[0m\u001b[0;34m(\u001b[0m\u001b[0mrk\u001b[0m\u001b[0;34m)\u001b[0m\u001b[0;34m\u001b[0m\u001b[0;34m\u001b[0m\u001b[0m\n\u001b[1;32m    845\u001b[0m                     \u001b[0;32mif\u001b[0m \u001b[0mlk\u001b[0m \u001b[0;32mis\u001b[0m \u001b[0;32mnot\u001b[0m \u001b[0;32mNone\u001b[0m\u001b[0;34m:\u001b[0m\u001b[0;34m\u001b[0m\u001b[0;34m\u001b[0m\u001b[0m\n\u001b[0;32m--> 846\u001b[0;31m                         \u001b[0mleft_keys\u001b[0m\u001b[0;34m.\u001b[0m\u001b[0mappend\u001b[0m\u001b[0;34m(\u001b[0m\u001b[0mleft\u001b[0m\u001b[0;34m.\u001b[0m\u001b[0m_get_label_or_level_values\u001b[0m\u001b[0;34m(\u001b[0m\u001b[0mlk\u001b[0m\u001b[0;34m)\u001b[0m\u001b[0;34m)\u001b[0m\u001b[0;34m\u001b[0m\u001b[0;34m\u001b[0m\u001b[0m\n\u001b[0m\u001b[1;32m    847\u001b[0m                         \u001b[0mjoin_names\u001b[0m\u001b[0;34m.\u001b[0m\u001b[0mappend\u001b[0m\u001b[0;34m(\u001b[0m\u001b[0mlk\u001b[0m\u001b[0;34m)\u001b[0m\u001b[0;34m\u001b[0m\u001b[0;34m\u001b[0m\u001b[0m\n\u001b[1;32m    848\u001b[0m                     \u001b[0;32melse\u001b[0m\u001b[0;34m:\u001b[0m\u001b[0;34m\u001b[0m\u001b[0;34m\u001b[0m\u001b[0m\n", 
                        "\u001b[0;32m/opt/conda/envs/Python36/lib/python3.6/site-packages/pandas/core/generic.py\u001b[0m in \u001b[0;36m_get_label_or_level_values\u001b[0;34m(self, key, axis)\u001b[0m\n\u001b[1;32m   1724\u001b[0m                              .format(key=key,\n\u001b[1;32m   1725\u001b[0m                                      \u001b[0mlabel_axis_name\u001b[0m\u001b[0;34m=\u001b[0m\u001b[0mlabel_axis_name\u001b[0m\u001b[0;34m,\u001b[0m\u001b[0;34m\u001b[0m\u001b[0;34m\u001b[0m\u001b[0m\n\u001b[0;32m-> 1726\u001b[0;31m                                      multi_message=multi_message))\n\u001b[0m\u001b[1;32m   1727\u001b[0m \u001b[0;34m\u001b[0m\u001b[0m\n\u001b[1;32m   1728\u001b[0m         \u001b[0;32mreturn\u001b[0m \u001b[0mvalues\u001b[0m\u001b[0;34m\u001b[0m\u001b[0;34m\u001b[0m\u001b[0m\n", 
                        "\u001b[0;31mValueError\u001b[0m: The column label 'Postal Code' is not unique."
                    ], 
                    "ename": "ValueError"
                }
            ], 
            "metadata": {
                "scrolled": true
            }
        }, 
        {
            "source": "test = kd[kd['Borough'].str.contains('Toronto')]\ntest", 
            "cell_type": "code", 
            "execution_count": 14, 
            "outputs": [
                {
                    "output_type": "execute_result", 
                    "metadata": {}, 
                    "data": {
                        "text/html": "<div>\n<style scoped>\n    .dataframe tbody tr th:only-of-type {\n        vertical-align: middle;\n    }\n\n    .dataframe tbody tr th {\n        vertical-align: top;\n    }\n\n    .dataframe thead th {\n        text-align: right;\n    }\n</style>\n<table border=\"1\" class=\"dataframe\">\n  <thead>\n    <tr style=\"text-align: right;\">\n      <th></th>\n      <th>Postcode</th>\n      <th>Borough</th>\n      <th>Neighbourhood</th>\n    </tr>\n  </thead>\n  <tbody>\n    <tr>\n      <th>37</th>\n      <td>M4E</td>\n      <td>East Toronto</td>\n      <td>The Beaches</td>\n    </tr>\n    <tr>\n      <th>41</th>\n      <td>M4K</td>\n      <td>East Toronto</td>\n      <td>The Danforth West, Riverdale</td>\n    </tr>\n    <tr>\n      <th>42</th>\n      <td>M4L</td>\n      <td>East Toronto</td>\n      <td>The Beaches West, India Bazaar</td>\n    </tr>\n    <tr>\n      <th>43</th>\n      <td>M4M</td>\n      <td>East Toronto</td>\n      <td>Studio District</td>\n    </tr>\n    <tr>\n      <th>44</th>\n      <td>M4N</td>\n      <td>Central Toronto</td>\n      <td>Lawrence Park</td>\n    </tr>\n    <tr>\n      <th>45</th>\n      <td>M4P</td>\n      <td>Central Toronto</td>\n      <td>Davisville North</td>\n    </tr>\n    <tr>\n      <th>46</th>\n      <td>M4R</td>\n      <td>Central Toronto</td>\n      <td>North Toronto West</td>\n    </tr>\n    <tr>\n      <th>47</th>\n      <td>M4S</td>\n      <td>Central Toronto</td>\n      <td>Davisville</td>\n    </tr>\n    <tr>\n      <th>48</th>\n      <td>M4T</td>\n      <td>Central Toronto</td>\n      <td>Moore Park, Summerhill East</td>\n    </tr>\n    <tr>\n      <th>49</th>\n      <td>M4V</td>\n      <td>Central Toronto</td>\n      <td>Deer Park, Forest Hill SE, Rathnelly, South Hi...</td>\n    </tr>\n    <tr>\n      <th>50</th>\n      <td>M4W</td>\n      <td>Downtown Toronto</td>\n      <td>Rosedale</td>\n    </tr>\n    <tr>\n      <th>51</th>\n      <td>M4X</td>\n      <td>Downtown Toronto</td>\n      <td>Cabbagetown, St. James Town</td>\n    </tr>\n    <tr>\n      <th>52</th>\n      <td>M4Y</td>\n      <td>Downtown Toronto</td>\n      <td>Church and Wellesley</td>\n    </tr>\n    <tr>\n      <th>53</th>\n      <td>M5A</td>\n      <td>Downtown Toronto</td>\n      <td>Harbourfront, Regent Park</td>\n    </tr>\n    <tr>\n      <th>54</th>\n      <td>M5B</td>\n      <td>Downtown Toronto</td>\n      <td>Ryerson, Garden District</td>\n    </tr>\n    <tr>\n      <th>55</th>\n      <td>M5C</td>\n      <td>Downtown Toronto</td>\n      <td>St. James Town</td>\n    </tr>\n    <tr>\n      <th>56</th>\n      <td>M5E</td>\n      <td>Downtown Toronto</td>\n      <td>Berczy Park</td>\n    </tr>\n    <tr>\n      <th>57</th>\n      <td>M5G</td>\n      <td>Downtown Toronto</td>\n      <td>Central Bay Street</td>\n    </tr>\n    <tr>\n      <th>58</th>\n      <td>M5H</td>\n      <td>Downtown Toronto</td>\n      <td>Adelaide, King, Richmond</td>\n    </tr>\n    <tr>\n      <th>59</th>\n      <td>M5J</td>\n      <td>Downtown Toronto</td>\n      <td>Harbourfront East, Toronto Islands, Union Station</td>\n    </tr>\n    <tr>\n      <th>60</th>\n      <td>M5K</td>\n      <td>Downtown Toronto</td>\n      <td>Design Exchange, Toronto Dominion Centre</td>\n    </tr>\n    <tr>\n      <th>61</th>\n      <td>M5L</td>\n      <td>Downtown Toronto</td>\n      <td>Commerce Court, Victoria Hotel</td>\n    </tr>\n    <tr>\n      <th>63</th>\n      <td>M5N</td>\n      <td>Central Toronto</td>\n      <td>Roselawn</td>\n    </tr>\n    <tr>\n      <th>64</th>\n      <td>M5P</td>\n      <td>Central Toronto</td>\n      <td>Forest Hill North, Forest Hill West</td>\n    </tr>\n    <tr>\n      <th>65</th>\n      <td>M5R</td>\n      <td>Central Toronto</td>\n      <td>The Annex, North Midtown, Yorkville</td>\n    </tr>\n    <tr>\n      <th>66</th>\n      <td>M5S</td>\n      <td>Downtown Toronto</td>\n      <td>Harbord, University of Toronto</td>\n    </tr>\n    <tr>\n      <th>67</th>\n      <td>M5T</td>\n      <td>Downtown Toronto</td>\n      <td>Chinatown, Grange Park, Kensington Market</td>\n    </tr>\n    <tr>\n      <th>68</th>\n      <td>M5V</td>\n      <td>Downtown Toronto</td>\n      <td>CN Tower, Bathurst Quay, Island airport, Harbo...</td>\n    </tr>\n    <tr>\n      <th>69</th>\n      <td>M5W</td>\n      <td>Downtown Toronto</td>\n      <td>Stn A PO Boxes 25 The Esplanade</td>\n    </tr>\n    <tr>\n      <th>70</th>\n      <td>M5X</td>\n      <td>Downtown Toronto</td>\n      <td>First Canadian Place, Underground city</td>\n    </tr>\n    <tr>\n      <th>75</th>\n      <td>M6G</td>\n      <td>Downtown Toronto</td>\n      <td>Christie</td>\n    </tr>\n    <tr>\n      <th>76</th>\n      <td>M6H</td>\n      <td>West Toronto</td>\n      <td>Dovercourt Village, Dufferin</td>\n    </tr>\n    <tr>\n      <th>77</th>\n      <td>M6J</td>\n      <td>West Toronto</td>\n      <td>Little Portugal, Trinity</td>\n    </tr>\n    <tr>\n      <th>78</th>\n      <td>M6K</td>\n      <td>West Toronto</td>\n      <td>Brockton, Exhibition Place, Parkdale Village</td>\n    </tr>\n    <tr>\n      <th>82</th>\n      <td>M6P</td>\n      <td>West Toronto</td>\n      <td>High Park, The Junction South</td>\n    </tr>\n    <tr>\n      <th>83</th>\n      <td>M6R</td>\n      <td>West Toronto</td>\n      <td>Parkdale, Roncesvalles</td>\n    </tr>\n    <tr>\n      <th>84</th>\n      <td>M6S</td>\n      <td>West Toronto</td>\n      <td>Runnymede, Swansea</td>\n    </tr>\n    <tr>\n      <th>87</th>\n      <td>M7Y</td>\n      <td>East Toronto</td>\n      <td>Business Reply Mail Processing Centre 969 Eastern</td>\n    </tr>\n  </tbody>\n</table>\n</div>", 
                        "text/plain": "   Postcode           Borough  \\\n37      M4E      East Toronto   \n41      M4K      East Toronto   \n42      M4L      East Toronto   \n43      M4M      East Toronto   \n44      M4N   Central Toronto   \n45      M4P   Central Toronto   \n46      M4R   Central Toronto   \n47      M4S   Central Toronto   \n48      M4T   Central Toronto   \n49      M4V   Central Toronto   \n50      M4W  Downtown Toronto   \n51      M4X  Downtown Toronto   \n52      M4Y  Downtown Toronto   \n53      M5A  Downtown Toronto   \n54      M5B  Downtown Toronto   \n55      M5C  Downtown Toronto   \n56      M5E  Downtown Toronto   \n57      M5G  Downtown Toronto   \n58      M5H  Downtown Toronto   \n59      M5J  Downtown Toronto   \n60      M5K  Downtown Toronto   \n61      M5L  Downtown Toronto   \n63      M5N   Central Toronto   \n64      M5P   Central Toronto   \n65      M5R   Central Toronto   \n66      M5S  Downtown Toronto   \n67      M5T  Downtown Toronto   \n68      M5V  Downtown Toronto   \n69      M5W  Downtown Toronto   \n70      M5X  Downtown Toronto   \n75      M6G  Downtown Toronto   \n76      M6H      West Toronto   \n77      M6J      West Toronto   \n78      M6K      West Toronto   \n82      M6P      West Toronto   \n83      M6R      West Toronto   \n84      M6S      West Toronto   \n87      M7Y      East Toronto   \n\n                                        Neighbourhood  \n37                                        The Beaches  \n41                       The Danforth West, Riverdale  \n42                     The Beaches West, India Bazaar  \n43                                    Studio District  \n44                                      Lawrence Park  \n45                                   Davisville North  \n46                                 North Toronto West  \n47                                         Davisville  \n48                        Moore Park, Summerhill East  \n49  Deer Park, Forest Hill SE, Rathnelly, South Hi...  \n50                                           Rosedale  \n51                        Cabbagetown, St. James Town  \n52                               Church and Wellesley  \n53                          Harbourfront, Regent Park  \n54                           Ryerson, Garden District  \n55                                     St. James Town  \n56                                        Berczy Park  \n57                                 Central Bay Street  \n58                           Adelaide, King, Richmond  \n59  Harbourfront East, Toronto Islands, Union Station  \n60           Design Exchange, Toronto Dominion Centre  \n61                     Commerce Court, Victoria Hotel  \n63                                           Roselawn  \n64                Forest Hill North, Forest Hill West  \n65                The Annex, North Midtown, Yorkville  \n66                     Harbord, University of Toronto  \n67          Chinatown, Grange Park, Kensington Market  \n68  CN Tower, Bathurst Quay, Island airport, Harbo...  \n69                    Stn A PO Boxes 25 The Esplanade  \n70             First Canadian Place, Underground city  \n75                                           Christie  \n76                       Dovercourt Village, Dufferin  \n77                           Little Portugal, Trinity  \n78       Brockton, Exhibition Place, Parkdale Village  \n82                      High Park, The Junction South  \n83                             Parkdale, Roncesvalles  \n84                                 Runnymede, Swansea  \n87  Business Reply Mail Processing Centre 969 Eastern  "
                    }, 
                    "execution_count": 14
                }
            ], 
            "metadata": {
                "scrolled": true
            }
        }, 
        {
            "source": "", 
            "cell_type": "code", 
            "execution_count": null, 
            "outputs": [], 
            "metadata": {}
        }
    ], 
    "nbformat": 4, 
    "metadata": {
        "kernelspec": {
            "display_name": "Python 3.6", 
            "name": "python3", 
            "language": "python"
        }, 
        "language_info": {
            "mimetype": "text/x-python", 
            "nbconvert_exporter": "python", 
            "version": "3.6.8", 
            "name": "python", 
            "pygments_lexer": "ipython3", 
            "file_extension": ".py", 
            "codemirror_mode": {
                "version": 3, 
                "name": "ipython"
            }
        }
    }
}